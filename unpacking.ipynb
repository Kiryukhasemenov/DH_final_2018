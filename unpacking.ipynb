{
 "cells": [
  {
   "cell_type": "markdown",
   "metadata": {},
   "source": [
    "# Шаг нулевой\n",
    "### Шаг 0.1\n",
    "загрузить файл из викидаты в формате CSV!!!\n",
    "### Шаг 0.2\n",
    "запустить все функции ниже:"
   ]
  },
  {
   "cell_type": "code",
   "execution_count": 11,
   "metadata": {
    "collapsed": true
   },
   "outputs": [],
   "source": [
    "def csv_opener(f):\n",
    "    with open(f, 'r', encoding='utf-8') as src:\n",
    "        data=src.readlines()\n",
    "    return data\n",
    "#csv_opener('query.csv')"
   ]
  },
  {
   "cell_type": "code",
   "execution_count": 49,
   "metadata": {
    "collapsed": true
   },
   "outputs": [],
   "source": [
    "def beginning():\n",
    "    with open ('transnistria.geojson', 'a', encoding='utf-8') as src1:\n",
    "        src1.write('{\"type\": \"FeatureCollection\",  \"features\": [')\n",
    "    return 'beginning done'"
   ]
  },
  {
   "cell_type": "code",
   "execution_count": 50,
   "metadata": {
    "collapsed": true
   },
   "outputs": [],
   "source": [
    "import string\n",
    "def f1(d):\n",
    "    print(d)\n",
    "    color=input('input color')\n",
    "    json_beginning='{\"type\": \"FeatureCollection\",  \"features\": ['\n",
    "    json_ending=']}'\n",
    "    json_string=string.Template('{\"type\": \"Feature\",\"properties\": {\"marker-color\": $color,\"marker-size\": \"small\",\"name\": $city, \"link\": $link},\"geometry\": {\"type\": \"Point\",\"coordinates\": [$coord1,$coord2]}},')\n",
    "    for line in d[1:]:\n",
    "        print(line)\n",
    "        line = line.split(',')\n",
    "        if len(line)==4:\n",
    "            print(line)\n",
    "            city='\"'+line[1]+'\"'\n",
    "            coords=line[2][6:-1]\n",
    "            coords=coords.split(' ')\n",
    "            print(coords)\n",
    "            coord1=coords[0]\n",
    "            print(coord1)\n",
    "            coord2=coords[1]\n",
    "            print(coord2)\n",
    "            link='\"'+line[0]+'\"'\n",
    "        else:\n",
    "            city=line[1][:-1]+'\"'\n",
    "            coords=line[-2][6:-1]\n",
    "            coords=coords.split(' ')\n",
    "            print(coords)\n",
    "            coord1=coords[0]\n",
    "            print(coord1)\n",
    "            coord2=coords[1]\n",
    "            print(coord2)\n",
    "            link='\"'+line[0]+'\"'            \n",
    "        newline=json_string.substitute(color=color, city=city, link=link, coord1=coord1, coord2=coord2)\n",
    "        with open ('transnistria.geojson', 'a', encoding='utf-8') as source:\n",
    "            source.write(newline)\n",
    "    return 'done'"
   ]
  },
  {
   "cell_type": "code",
   "execution_count": 51,
   "metadata": {
    "collapsed": true
   },
   "outputs": [],
   "source": [
    "#f1(csv_opener('query.csv'))"
   ]
  },
  {
   "cell_type": "code",
   "execution_count": 52,
   "metadata": {
    "collapsed": true
   },
   "outputs": [],
   "source": [
    "def ending():\n",
    "    with open ('transnistria.geojson', 'a', encoding='utf-8') as src1:\n",
    "        src1.write(']}')\n",
    "    return 'ending done'"
   ]
  },
  {
   "cell_type": "markdown",
   "metadata": {},
   "source": [
    "# Шаг первый \n",
    "начать запись файла"
   ]
  },
  {
   "cell_type": "code",
   "execution_count": 53,
   "metadata": {},
   "outputs": [
    {
     "data": {
      "text/plain": [
       "'beginning done'"
      ]
     },
     "execution_count": 53,
     "metadata": {},
     "output_type": "execute_result"
    }
   ],
   "source": [
    "beginning()"
   ]
  },
  {
   "cell_type": "markdown",
   "metadata": {},
   "source": [
    "# Шаг второй\n",
    "записать данные\n",
    "### !!!Если мы продолжаем записывать данные для другого языка в уже существующий файл, то делать только это!!!\n",
    "----------\n",
    "### Примечание:\n",
    "в начале запуска программа запрашивает цвет. Его необходимо поставить в палитре RGB, все нужные названия уже лежат на второй страницы гугл-таблицы. Надо скопировать полностью (с кавычками) содержание ячейки."
   ]
  },
  {
   "cell_type": "code",
   "execution_count": 54,
   "metadata": {
    "scrolled": true
   },
   "outputs": [
    {
     "name": "stdout",
     "output_type": "stream",
     "text": [
      "['item,itemLabel,coord,country\\n', 'http://www.wikidata.org/entity/Q2708419,Красное,Point(29.80472223 46.6513889),http://www.wikidata.org/entity/Q907112\\n', 'http://www.wikidata.org/entity/Q1994060,Красный Октябрь,Point(28.55 48.01666667),http://www.wikidata.org/entity/Q907112\\n', 'http://www.wikidata.org/entity/Q1995639,Красногорка (ПМР),Point(29.46666667 46.96666667),http://www.wikidata.org/entity/Q907112\\n', 'http://www.wikidata.org/entity/Q1995737,Красненькое,Point(29.13333333 47.85),http://www.wikidata.org/entity/Q907112\\n', 'http://www.wikidata.org/entity/Q2631208,Красный Виноградарь,Point(29.28333333 47.3),http://www.wikidata.org/entity/Q907112\\n', 'http://www.wikidata.org/entity/Q11147032,Красное (Григориополь),Point(29.36116667 47.18155556),http://www.wikidata.org/entity/Q907112\\n', 'http://www.wikidata.org/entity/Q11170419,Красная Бессарабия,Point(29.58527778 47.28944444),http://www.wikidata.org/entity/Q907112\\n', 'http://www.wikidata.org/entity/Q12114188,Красная Горка,Point(29.31937 47.130748),http://www.wikidata.org/entity/Q907112\\n']\n",
      "input color\"#ff0000\"\n",
      "http://www.wikidata.org/entity/Q2708419,Красное,Point(29.80472223 46.6513889),http://www.wikidata.org/entity/Q907112\n",
      "\n",
      "['http://www.wikidata.org/entity/Q2708419', 'Красное', 'Point(29.80472223 46.6513889)', 'http://www.wikidata.org/entity/Q907112\\n']\n",
      "['29.80472223', '46.6513889']\n",
      "29.80472223\n",
      "46.6513889\n",
      "http://www.wikidata.org/entity/Q1994060,Красный Октябрь,Point(28.55 48.01666667),http://www.wikidata.org/entity/Q907112\n",
      "\n",
      "['http://www.wikidata.org/entity/Q1994060', 'Красный Октябрь', 'Point(28.55 48.01666667)', 'http://www.wikidata.org/entity/Q907112\\n']\n",
      "['28.55', '48.01666667']\n",
      "28.55\n",
      "48.01666667\n",
      "http://www.wikidata.org/entity/Q1995639,Красногорка (ПМР),Point(29.46666667 46.96666667),http://www.wikidata.org/entity/Q907112\n",
      "\n",
      "['http://www.wikidata.org/entity/Q1995639', 'Красногорка (ПМР)', 'Point(29.46666667 46.96666667)', 'http://www.wikidata.org/entity/Q907112\\n']\n",
      "['29.46666667', '46.96666667']\n",
      "29.46666667\n",
      "46.96666667\n",
      "http://www.wikidata.org/entity/Q1995737,Красненькое,Point(29.13333333 47.85),http://www.wikidata.org/entity/Q907112\n",
      "\n",
      "['http://www.wikidata.org/entity/Q1995737', 'Красненькое', 'Point(29.13333333 47.85)', 'http://www.wikidata.org/entity/Q907112\\n']\n",
      "['29.13333333', '47.85']\n",
      "29.13333333\n",
      "47.85\n",
      "http://www.wikidata.org/entity/Q2631208,Красный Виноградарь,Point(29.28333333 47.3),http://www.wikidata.org/entity/Q907112\n",
      "\n",
      "['http://www.wikidata.org/entity/Q2631208', 'Красный Виноградарь', 'Point(29.28333333 47.3)', 'http://www.wikidata.org/entity/Q907112\\n']\n",
      "['29.28333333', '47.3']\n",
      "29.28333333\n",
      "47.3\n",
      "http://www.wikidata.org/entity/Q11147032,Красное (Григориополь),Point(29.36116667 47.18155556),http://www.wikidata.org/entity/Q907112\n",
      "\n",
      "['http://www.wikidata.org/entity/Q11147032', 'Красное (Григориополь)', 'Point(29.36116667 47.18155556)', 'http://www.wikidata.org/entity/Q907112\\n']\n",
      "['29.36116667', '47.18155556']\n",
      "29.36116667\n",
      "47.18155556\n",
      "http://www.wikidata.org/entity/Q11170419,Красная Бессарабия,Point(29.58527778 47.28944444),http://www.wikidata.org/entity/Q907112\n",
      "\n",
      "['http://www.wikidata.org/entity/Q11170419', 'Красная Бессарабия', 'Point(29.58527778 47.28944444)', 'http://www.wikidata.org/entity/Q907112\\n']\n",
      "['29.58527778', '47.28944444']\n",
      "29.58527778\n",
      "47.28944444\n",
      "http://www.wikidata.org/entity/Q12114188,Красная Горка,Point(29.31937 47.130748),http://www.wikidata.org/entity/Q907112\n",
      "\n",
      "['http://www.wikidata.org/entity/Q12114188', 'Красная Горка', 'Point(29.31937 47.130748)', 'http://www.wikidata.org/entity/Q907112\\n']\n",
      "['29.31937', '47.130748']\n",
      "29.31937\n",
      "47.130748\n"
     ]
    },
    {
     "data": {
      "text/plain": [
       "'done'"
      ]
     },
     "execution_count": 54,
     "metadata": {},
     "output_type": "execute_result"
    }
   ],
   "source": [
    "f1(csv_opener('transnistria-red.csv'))"
   ]
  },
  {
   "cell_type": "markdown",
   "metadata": {},
   "source": [
    "# Шаг третий\n",
    "записать конец файла. \n",
    "### Шаг 3.1\n",
    "удалить из файла .геоджсон последний символ - запятую (вручную я делаю, влом было написать еще две строки кода)\n",
    "### Шаг 3.2\n",
    "Пишем конец файла"
   ]
  },
  {
   "cell_type": "code",
   "execution_count": 55,
   "metadata": {},
   "outputs": [
    {
     "data": {
      "text/plain": [
       "'ending done'"
      ]
     },
     "execution_count": 55,
     "metadata": {},
     "output_type": "execute_result"
    }
   ],
   "source": [
    "ending()"
   ]
  },
  {
   "cell_type": "markdown",
   "metadata": {
    "collapsed": true
   },
   "source": [
    "# Статистика"
   ]
  },
  {
   "cell_type": "code",
   "execution_count": 77,
   "metadata": {},
   "outputs": [],
   "source": [
    "import matplotlib.pyplot as plt\n",
    "stats={'blue':457, 'red':2368, 'green':2010, 'yellow':80, 'white':1882,'black':1450}\n",
    "colors=['blue','red','green','yellow','lightgrey','black']\n",
    "for s in stats:\n",
    "    stats[s]=round(stats[s]/8247, 3)*100\n",
    "plt.title('Western World + Russia')\n",
    "plt.ylabel('percentage')\n",
    "plt.bar(range(len(stats)), list(stats.values()), align='center', color=colors)\n",
    "plt.xticks(range(len(stats)), list(stats.keys()))\n",
    "plt.savefig('westworld.jpg')"
   ]
  },
  {
   "cell_type": "code",
   "execution_count": 78,
   "metadata": {},
   "outputs": [],
   "source": [
    "chinese_stats={'blue':2, 'red':25, 'green':1, 'yellow':23, 'white':21, 'black':4,'qing':30}\n",
    "colors=['blue','red','green','yellow','lightgrey','black','cyan']\n",
    "for c in chinese_stats:\n",
    "    chinese_stats[c]=round(chinese_stats[c]/106, 3)*100\n",
    "plt.title('China')\n",
    "plt.ylabel('percentage')\n",
    "plt.bar(range(len(chinese_stats)), list(chinese_stats.values()), align='center', color=colors)\n",
    "plt.xticks(range(len(chinese_stats)), list(chinese_stats.keys()))\n",
    "plt.savefig('china.jpg')"
   ]
  },
  {
   "cell_type": "code",
   "execution_count": null,
   "metadata": {
    "collapsed": true
   },
   "outputs": [],
   "source": []
  }
 ],
 "metadata": {
  "kernelspec": {
   "display_name": "Python 3",
   "language": "python",
   "name": "python3"
  },
  "language_info": {
   "codemirror_mode": {
    "name": "ipython",
    "version": 3
   },
   "file_extension": ".py",
   "mimetype": "text/x-python",
   "name": "python",
   "nbconvert_exporter": "python",
   "pygments_lexer": "ipython3",
   "version": "3.6.1"
  }
 },
 "nbformat": 4,
 "nbformat_minor": 2
}
